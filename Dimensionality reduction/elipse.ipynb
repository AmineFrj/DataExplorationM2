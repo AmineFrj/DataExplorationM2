{
 "cells": [
  {
   "cell_type": "code",
   "execution_count": 15,
   "id": "c153d524-321a-452a-8966-dfd868853f88",
   "metadata": {},
   "outputs": [
    {
     "data": {
      "application/vnd.plotly.v1+json": {
       "config": {
        "plotlyServerURL": "https://plot.ly"
       },
       "data": [
        {
         "marker": {
          "color": "tomato",
          "size": 4
         },
         "mode": "markers",
         "name": "Hélice A",
         "type": "scatter3d",
         "x": {
          "bdata": "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",
          "dtype": "f8"
         },
         "y": {
          "bdata": "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",
          "dtype": "f8"
         },
         "z": {
          "bdata": "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",
          "dtype": "f8"
         }
        },
        {
         "marker": {
          "color": "deepskyblue",
          "size": 4
         },
         "mode": "markers",
         "name": "Hélice B",
         "type": "scatter3d",
         "x": {
          "bdata": "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",
          "dtype": "f8"
         },
         "y": {
          "bdata": "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",
          "dtype": "f8"
         },
         "z": {
          "bdata": "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",
          "dtype": "f8"
         }
        }
       ],
       "layout": {
        "margin": {
         "b": 0,
         "l": 0,
         "r": 0,
         "t": 40
        },
        "scene": {
         "aspectmode": "data",
         "camera": {
          "eye": {
           "x": 1.75,
           "y": 1.25,
           "z": 0.8
          }
         },
         "xaxis": {
          "visible": false
         },
         "yaxis": {
          "visible": false
         },
         "zaxis": {
          "visible": false
         }
        },
        "template": {
         "data": {
          "bar": [
           {
            "error_x": {
             "color": "#2a3f5f"
            },
            "error_y": {
             "color": "#2a3f5f"
            },
            "marker": {
             "line": {
              "color": "#E5ECF6",
              "width": 0.5
             },
             "pattern": {
              "fillmode": "overlay",
              "size": 10,
              "solidity": 0.2
             }
            },
            "type": "bar"
           }
          ],
          "barpolar": [
           {
            "marker": {
             "line": {
              "color": "#E5ECF6",
              "width": 0.5
             },
             "pattern": {
              "fillmode": "overlay",
              "size": 10,
              "solidity": 0.2
             }
            },
            "type": "barpolar"
           }
          ],
          "carpet": [
           {
            "aaxis": {
             "endlinecolor": "#2a3f5f",
             "gridcolor": "white",
             "linecolor": "white",
             "minorgridcolor": "white",
             "startlinecolor": "#2a3f5f"
            },
            "baxis": {
             "endlinecolor": "#2a3f5f",
             "gridcolor": "white",
             "linecolor": "white",
             "minorgridcolor": "white",
             "startlinecolor": "#2a3f5f"
            },
            "type": "carpet"
           }
          ],
          "choropleth": [
           {
            "colorbar": {
             "outlinewidth": 0,
             "ticks": ""
            },
            "type": "choropleth"
           }
          ],
          "contour": [
           {
            "colorbar": {
             "outlinewidth": 0,
             "ticks": ""
            },
            "colorscale": [
             [
              0,
              "#0d0887"
             ],
             [
              0.1111111111111111,
              "#46039f"
             ],
             [
              0.2222222222222222,
              "#7201a8"
             ],
             [
              0.3333333333333333,
              "#9c179e"
             ],
             [
              0.4444444444444444,
              "#bd3786"
             ],
             [
              0.5555555555555556,
              "#d8576b"
             ],
             [
              0.6666666666666666,
              "#ed7953"
             ],
             [
              0.7777777777777778,
              "#fb9f3a"
             ],
             [
              0.8888888888888888,
              "#fdca26"
             ],
             [
              1,
              "#f0f921"
             ]
            ],
            "type": "contour"
           }
          ],
          "contourcarpet": [
           {
            "colorbar": {
             "outlinewidth": 0,
             "ticks": ""
            },
            "type": "contourcarpet"
           }
          ],
          "heatmap": [
           {
            "colorbar": {
             "outlinewidth": 0,
             "ticks": ""
            },
            "colorscale": [
             [
              0,
              "#0d0887"
             ],
             [
              0.1111111111111111,
              "#46039f"
             ],
             [
              0.2222222222222222,
              "#7201a8"
             ],
             [
              0.3333333333333333,
              "#9c179e"
             ],
             [
              0.4444444444444444,
              "#bd3786"
             ],
             [
              0.5555555555555556,
              "#d8576b"
             ],
             [
              0.6666666666666666,
              "#ed7953"
             ],
             [
              0.7777777777777778,
              "#fb9f3a"
             ],
             [
              0.8888888888888888,
              "#fdca26"
             ],
             [
              1,
              "#f0f921"
             ]
            ],
            "type": "heatmap"
           }
          ],
          "histogram": [
           {
            "marker": {
             "pattern": {
              "fillmode": "overlay",
              "size": 10,
              "solidity": 0.2
             }
            },
            "type": "histogram"
           }
          ],
          "histogram2d": [
           {
            "colorbar": {
             "outlinewidth": 0,
             "ticks": ""
            },
            "colorscale": [
             [
              0,
              "#0d0887"
             ],
             [
              0.1111111111111111,
              "#46039f"
             ],
             [
              0.2222222222222222,
              "#7201a8"
             ],
             [
              0.3333333333333333,
              "#9c179e"
             ],
             [
              0.4444444444444444,
              "#bd3786"
             ],
             [
              0.5555555555555556,
              "#d8576b"
             ],
             [
              0.6666666666666666,
              "#ed7953"
             ],
             [
              0.7777777777777778,
              "#fb9f3a"
             ],
             [
              0.8888888888888888,
              "#fdca26"
             ],
             [
              1,
              "#f0f921"
             ]
            ],
            "type": "histogram2d"
           }
          ],
          "histogram2dcontour": [
           {
            "colorbar": {
             "outlinewidth": 0,
             "ticks": ""
            },
            "colorscale": [
             [
              0,
              "#0d0887"
             ],
             [
              0.1111111111111111,
              "#46039f"
             ],
             [
              0.2222222222222222,
              "#7201a8"
             ],
             [
              0.3333333333333333,
              "#9c179e"
             ],
             [
              0.4444444444444444,
              "#bd3786"
             ],
             [
              0.5555555555555556,
              "#d8576b"
             ],
             [
              0.6666666666666666,
              "#ed7953"
             ],
             [
              0.7777777777777778,
              "#fb9f3a"
             ],
             [
              0.8888888888888888,
              "#fdca26"
             ],
             [
              1,
              "#f0f921"
             ]
            ],
            "type": "histogram2dcontour"
           }
          ],
          "mesh3d": [
           {
            "colorbar": {
             "outlinewidth": 0,
             "ticks": ""
            },
            "type": "mesh3d"
           }
          ],
          "parcoords": [
           {
            "line": {
             "colorbar": {
              "outlinewidth": 0,
              "ticks": ""
             }
            },
            "type": "parcoords"
           }
          ],
          "pie": [
           {
            "automargin": true,
            "type": "pie"
           }
          ],
          "scatter": [
           {
            "fillpattern": {
             "fillmode": "overlay",
             "size": 10,
             "solidity": 0.2
            },
            "type": "scatter"
           }
          ],
          "scatter3d": [
           {
            "line": {
             "colorbar": {
              "outlinewidth": 0,
              "ticks": ""
             }
            },
            "marker": {
             "colorbar": {
              "outlinewidth": 0,
              "ticks": ""
             }
            },
            "type": "scatter3d"
           }
          ],
          "scattercarpet": [
           {
            "marker": {
             "colorbar": {
              "outlinewidth": 0,
              "ticks": ""
             }
            },
            "type": "scattercarpet"
           }
          ],
          "scattergeo": [
           {
            "marker": {
             "colorbar": {
              "outlinewidth": 0,
              "ticks": ""
             }
            },
            "type": "scattergeo"
           }
          ],
          "scattergl": [
           {
            "marker": {
             "colorbar": {
              "outlinewidth": 0,
              "ticks": ""
             }
            },
            "type": "scattergl"
           }
          ],
          "scattermap": [
           {
            "marker": {
             "colorbar": {
              "outlinewidth": 0,
              "ticks": ""
             }
            },
            "type": "scattermap"
           }
          ],
          "scattermapbox": [
           {
            "marker": {
             "colorbar": {
              "outlinewidth": 0,
              "ticks": ""
             }
            },
            "type": "scattermapbox"
           }
          ],
          "scatterpolar": [
           {
            "marker": {
             "colorbar": {
              "outlinewidth": 0,
              "ticks": ""
             }
            },
            "type": "scatterpolar"
           }
          ],
          "scatterpolargl": [
           {
            "marker": {
             "colorbar": {
              "outlinewidth": 0,
              "ticks": ""
             }
            },
            "type": "scatterpolargl"
           }
          ],
          "scatterternary": [
           {
            "marker": {
             "colorbar": {
              "outlinewidth": 0,
              "ticks": ""
             }
            },
            "type": "scatterternary"
           }
          ],
          "surface": [
           {
            "colorbar": {
             "outlinewidth": 0,
             "ticks": ""
            },
            "colorscale": [
             [
              0,
              "#0d0887"
             ],
             [
              0.1111111111111111,
              "#46039f"
             ],
             [
              0.2222222222222222,
              "#7201a8"
             ],
             [
              0.3333333333333333,
              "#9c179e"
             ],
             [
              0.4444444444444444,
              "#bd3786"
             ],
             [
              0.5555555555555556,
              "#d8576b"
             ],
             [
              0.6666666666666666,
              "#ed7953"
             ],
             [
              0.7777777777777778,
              "#fb9f3a"
             ],
             [
              0.8888888888888888,
              "#fdca26"
             ],
             [
              1,
              "#f0f921"
             ]
            ],
            "type": "surface"
           }
          ],
          "table": [
           {
            "cells": {
             "fill": {
              "color": "#EBF0F8"
             },
             "line": {
              "color": "white"
             }
            },
            "header": {
             "fill": {
              "color": "#C8D4E3"
             },
             "line": {
              "color": "white"
             }
            },
            "type": "table"
           }
          ]
         },
         "layout": {
          "annotationdefaults": {
           "arrowcolor": "#2a3f5f",
           "arrowhead": 0,
           "arrowwidth": 1
          },
          "autotypenumbers": "strict",
          "coloraxis": {
           "colorbar": {
            "outlinewidth": 0,
            "ticks": ""
           }
          },
          "colorscale": {
           "diverging": [
            [
             0,
             "#8e0152"
            ],
            [
             0.1,
             "#c51b7d"
            ],
            [
             0.2,
             "#de77ae"
            ],
            [
             0.3,
             "#f1b6da"
            ],
            [
             0.4,
             "#fde0ef"
            ],
            [
             0.5,
             "#f7f7f7"
            ],
            [
             0.6,
             "#e6f5d0"
            ],
            [
             0.7,
             "#b8e186"
            ],
            [
             0.8,
             "#7fbc41"
            ],
            [
             0.9,
             "#4d9221"
            ],
            [
             1,
             "#276419"
            ]
           ],
           "sequential": [
            [
             0,
             "#0d0887"
            ],
            [
             0.1111111111111111,
             "#46039f"
            ],
            [
             0.2222222222222222,
             "#7201a8"
            ],
            [
             0.3333333333333333,
             "#9c179e"
            ],
            [
             0.4444444444444444,
             "#bd3786"
            ],
            [
             0.5555555555555556,
             "#d8576b"
            ],
            [
             0.6666666666666666,
             "#ed7953"
            ],
            [
             0.7777777777777778,
             "#fb9f3a"
            ],
            [
             0.8888888888888888,
             "#fdca26"
            ],
            [
             1,
             "#f0f921"
            ]
           ],
           "sequentialminus": [
            [
             0,
             "#0d0887"
            ],
            [
             0.1111111111111111,
             "#46039f"
            ],
            [
             0.2222222222222222,
             "#7201a8"
            ],
            [
             0.3333333333333333,
             "#9c179e"
            ],
            [
             0.4444444444444444,
             "#bd3786"
            ],
            [
             0.5555555555555556,
             "#d8576b"
            ],
            [
             0.6666666666666666,
             "#ed7953"
            ],
            [
             0.7777777777777778,
             "#fb9f3a"
            ],
            [
             0.8888888888888888,
             "#fdca26"
            ],
            [
             1,
             "#f0f921"
            ]
           ]
          },
          "colorway": [
           "#636efa",
           "#EF553B",
           "#00cc96",
           "#ab63fa",
           "#FFA15A",
           "#19d3f3",
           "#FF6692",
           "#B6E880",
           "#FF97FF",
           "#FECB52"
          ],
          "font": {
           "color": "#2a3f5f"
          },
          "geo": {
           "bgcolor": "white",
           "lakecolor": "white",
           "landcolor": "#E5ECF6",
           "showlakes": true,
           "showland": true,
           "subunitcolor": "white"
          },
          "hoverlabel": {
           "align": "left"
          },
          "hovermode": "closest",
          "mapbox": {
           "style": "light"
          },
          "paper_bgcolor": "white",
          "plot_bgcolor": "#E5ECF6",
          "polar": {
           "angularaxis": {
            "gridcolor": "white",
            "linecolor": "white",
            "ticks": ""
           },
           "bgcolor": "#E5ECF6",
           "radialaxis": {
            "gridcolor": "white",
            "linecolor": "white",
            "ticks": ""
           }
          },
          "scene": {
           "xaxis": {
            "backgroundcolor": "#E5ECF6",
            "gridcolor": "white",
            "gridwidth": 2,
            "linecolor": "white",
            "showbackground": true,
            "ticks": "",
            "zerolinecolor": "white"
           },
           "yaxis": {
            "backgroundcolor": "#E5ECF6",
            "gridcolor": "white",
            "gridwidth": 2,
            "linecolor": "white",
            "showbackground": true,
            "ticks": "",
            "zerolinecolor": "white"
           },
           "zaxis": {
            "backgroundcolor": "#E5ECF6",
            "gridcolor": "white",
            "gridwidth": 2,
            "linecolor": "white",
            "showbackground": true,
            "ticks": "",
            "zerolinecolor": "white"
           }
          },
          "shapedefaults": {
           "line": {
            "color": "#2a3f5f"
           }
          },
          "ternary": {
           "aaxis": {
            "gridcolor": "white",
            "linecolor": "white",
            "ticks": ""
           },
           "baxis": {
            "gridcolor": "white",
            "linecolor": "white",
            "ticks": ""
           },
           "bgcolor": "#E5ECF6",
           "caxis": {
            "gridcolor": "white",
            "linecolor": "white",
            "ticks": ""
           }
          },
          "title": {
           "x": 0.05
          },
          "xaxis": {
           "automargin": true,
           "gridcolor": "white",
           "linecolor": "white",
           "ticks": "",
           "title": {
            "standoff": 15
           },
           "zerolinecolor": "white",
           "zerolinewidth": 2
          },
          "yaxis": {
           "automargin": true,
           "gridcolor": "white",
           "linecolor": "white",
           "ticks": "",
           "title": {
            "standoff": 15
           },
           "zerolinecolor": "white",
           "zerolinewidth": 2
          }
         }
        },
        "title": {
         "text": "Double hélice en points"
        }
       }
      }
     },
     "metadata": {},
     "output_type": "display_data"
    }
   ],
   "source": [
    "# pip install plotly\n",
    "import numpy as np\n",
    "import plotly.graph_objects as go\n",
    "\n",
    "# ---------- paramètres ----------\n",
    "R = 3.0            # rayon du cylindre\n",
    "turns = 6          # nombre de tours\n",
    "pitch = 0.6        # pas (écart en z par tour)\n",
    "points_per_turn = 80\n",
    "jitter = 0.02      # petit bruit (0 à 0.03) pour un effet \"dessin à la main\"\n",
    "dot_size = 4       # taille des marqueurs\n",
    "colors = dict(a=\"tomato\", b=\"deepskyblue\")  # couleurs des deux hélices\n",
    "\n",
    "# ---------- géométrie : deux hélices déphasées de π ----------\n",
    "T = np.linspace(0, 1*np.pi*turns, points_per_turn*turns)\n",
    "\n",
    "def helix(phase):\n",
    "    x = R*np.cos(T + phase)\n",
    "    y = R*np.sin(T + phase)\n",
    "    z = (pitch/(2*np.pi)) * (T)\n",
    "    if jitter > 0:\n",
    "        x += np.random.normal(0, jitter, size=x.size)\n",
    "        y += np.random.normal(0, jitter, size=y.size)\n",
    "        z += np.random.normal(0, jitter, size=z.size)*0.2\n",
    "    return x, y, z\n",
    "\n",
    "xa, ya, za = helix(0.0)          \n",
    "xb, yb, zb = helix(np.pi)        \n",
    "\n",
    "# ---------- figure Plotly ----------\n",
    "fig = go.Figure()\n",
    "\n",
    "fig.add_trace(go.Scatter3d(\n",
    "    x=xa, y=ya, z=za,\n",
    "    mode=\"markers\",\n",
    "    marker=dict(size=dot_size, color=colors[\"a\"]),\n",
    "    name=\"Hélice A\"\n",
    "))\n",
    "\n",
    "fig.add_trace(go.Scatter3d(\n",
    "    x=xb, y=yb, z=zb,\n",
    "    mode=\"markers\",\n",
    "    marker=dict(size=dot_size, color=colors[\"b\"]),\n",
    "    name=\"Hélice B\"\n",
    "))\n",
    "\n",
    "# Aspect et caméra\n",
    "height = pitch*turns\n",
    "fig.update_layout(\n",
    "    title=\"Double hélice en points\",\n",
    "    #paper_bgcolor=\"black\",\n",
    "    #plot_bgcolor=\"black\",\n",
    "    scene=dict(\n",
    "        xaxis=dict(visible=False),\n",
    "        yaxis=dict(visible=False),\n",
    "        zaxis=dict(visible=False),\n",
    "        aspectmode=\"data\"\n",
    "    ),\n",
    "    margin=dict(l=0, r=0, t=40, b=0)\n",
    ")\n",
    "\n",
    "# vue de 3/4 pour rappeler l'image donnée\n",
    "fig.update_layout(\n",
    "    scene_camera=dict(eye=dict(x=1.75, y=1.25, z=0.8))\n",
    ")\n",
    "\n",
    "fig.show()\n"
   ]
  },
  {
   "cell_type": "code",
   "execution_count": 17,
   "id": "fc521862-3727-4c3d-9076-6dfd73d9fac0",
   "metadata": {},
   "outputs": [
    {
     "data": {
      "image/png": "[encoded data removed]",
      "text/plain": [
       "<Figure size 640x480 with 1 Axes>"
      ]
     },
     "metadata": {},
     "output_type": "display_data"
    },
    {
     "data": {
      "image/png": "[encoded data removed]",
      "text/plain": [
       "<Figure size 640x480 with 1 Axes>"
      ]
     },
     "metadata": {},
     "output_type": "display_data"
    }
   ],
   "source": [
    "# pip install scikit-learn matplotlib plotly\n",
    "import numpy as np\n",
    "import matplotlib.pyplot as plt\n",
    "from sklearn.decomposition import PCA\n",
    "from sklearn.manifold import TSNE\n",
    "\n",
    "# ---------- paramètres ----------\n",
    "R = 3.0; turns = 6; pitch = 0.6; points_per_turn = 80; jitter = 0.02\n",
    "colors = dict(a=\"tomato\", b=\"deepskyblue\")  # mêmes couleurs que ton code\n",
    "\n",
    "# ---------- génération des deux hélices ----------\n",
    "T = np.linspace(0, 1*np.pi*turns, points_per_turn*turns)\n",
    "rng = np.random.default_rng(42)\n",
    "\n",
    "def helix(phase):\n",
    "    x = R*np.cos(T + phase)\n",
    "    y = R*np.sin(T + phase)\n",
    "    z = (pitch/(2*np.pi)) * (T)\n",
    "    if jitter > 0:\n",
    "        x = x + rng.normal(0, jitter, size=x.size)\n",
    "        y = y + rng.normal(0, jitter, size=y.size)\n",
    "        z = z + rng.normal(0, jitter, size=z.size)*0.2\n",
    "    return x, y, z\n",
    "\n",
    "xa, ya, za = helix(0.0)\n",
    "xb, yb, zb = helix(np.pi)\n",
    "\n",
    "Xa = np.vstack([xa, ya, za]).T\n",
    "Xb = np.vstack([xb, yb, zb]).T\n",
    "X  = np.vstack([Xa, Xb])\n",
    "y  = np.array([0]*Xa.shape[0] + [1]*Xb.shape[0])  # labels: 0=A, 1=B\n",
    "\n",
    "# ---------- PCA (2D) ----------\n",
    "pca = PCA(n_components=2)\n",
    "X_pca = pca.fit_transform(X)\n",
    "\n",
    "plt.figure()\n",
    "plt.scatter(X_pca[y==0,0], X_pca[y==0,1], s=10, c=colors[\"a\"], label=\"Hélice A\")\n",
    "plt.scatter(X_pca[y==1,0], X_pca[y==1,1], s=10, c=colors[\"b\"], label=\"Hélice B\")\n",
    "plt.xlabel(\"PC1\"); plt.ylabel(\"PC2\"); plt.title(\"PCA (2D)\")\n",
    "plt.legend(); plt.show()\n",
    "\n",
    "# ---------- t-SNE (2D) ----------\n",
    "tsne = TSNE(n_components=2, perplexity=30, learning_rate=\"auto\", init=\"pca\", random_state=42)\n",
    "X_tsne = tsne.fit_transform(X)\n",
    "\n",
    "plt.figure()\n",
    "plt.scatter(X_tsne[y==0,0], X_tsne[y==0,1], s=10, c=colors[\"a\"], label=\"Hélice A\")\n",
    "plt.scatter(X_tsne[y==1,0], X_tsne[y==1,1], s=10, c=colors[\"b\"], label=\"Hélice B\")\n",
    "plt.xlabel(\"t-SNE 1\"); plt.ylabel(\"t-SNE 2\"); plt.title(\"t-SNE (2D)\")\n",
    "plt.legend(); plt.show()\n"
   ]
  }
 ],
 "metadata": {
  "kernelspec": {
   "display_name": "Python 3 (ipykernel)",
   "language": "python",
   "name": "python3"
  },
  "language_info": {
   "codemirror_mode": {
    "name": "ipython",
    "version": 3
   },
   "file_extension": ".py",
   "mimetype": "text/x-python",
   "name": "python",
   "nbconvert_exporter": "python",
   "pygments_lexer": "ipython3",
   "version": "3.12.3"
  }
 },
 "nbformat": 4,
 "nbformat_minor": 5
}
